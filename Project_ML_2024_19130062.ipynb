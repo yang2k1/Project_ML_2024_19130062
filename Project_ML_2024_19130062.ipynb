{
  "cells": [
    {
      "cell_type": "markdown",
      "metadata": {
        "id": "view-in-github",
        "colab_type": "text"
      },
      "source": [
        "<a href=\"https://colab.research.google.com/github/yang2k1/Project_ML_2024_19130062/blob/main/Project_ML_2024_19130062.ipynb\" target=\"_parent\"><img src=\"https://colab.research.google.com/assets/colab-badge.svg\" alt=\"Open In Colab\"/></a>"
      ]
    },
    {
      "cell_type": "code",
      "execution_count": null,
      "metadata": {
        "colab": {
          "base_uri": "https://localhost:8080/"
        },
        "id": "mDe_w4aErv3C",
        "outputId": "da130cd3-0f70-4020-f82a-ac8d0efca2d5"
      },
      "outputs": [
        {
          "output_type": "stream",
          "name": "stdout",
          "text": [
            "Drive already mounted at /content/gdrive; to attempt to forcibly remount, call drive.mount(\"/content/gdrive\", force_remount=True).\n",
            "/content/gdrive/MyDrive/DataSet\n"
          ]
        }
      ],
      "source": [
        "from google.colab import drive\n",
        "drive.mount('/content/gdrive')\n",
        "%cd '/content/gdrive/MyDrive/DataSet'\n"
      ]
    },
    {
      "cell_type": "markdown",
      "metadata": {
        "id": "SpBlpY6_YoMy"
      },
      "source": [
        "# Khai báo thư viện"
      ]
    },
    {
      "cell_type": "code",
      "execution_count": null,
      "metadata": {
        "id": "qZQedHSQYtQS"
      },
      "outputs": [],
      "source": [
        "import pandas as pd\n",
        "import numpy as np\n",
        "from matplotlib import pyplot as plt\n",
        "import seaborn as sns\n",
        "from xgboost import XGBClassifier\n",
        "from sklearn.metrics import confusion_matrix, accuracy_score\n",
        "from sklearn.model_selection import cross_val_score\n",
        "from sklearn.ensemble import RandomForestClassifier\n",
        "from sklearn.neighbors import KNeighborsClassifier\n",
        "from sklearn.naive_bayes import GaussianNB\n",
        "from sklearn.tree import DecisionTreeClassifier\n",
        "from sklearn.impute import SimpleImputer\n",
        "from sklearn.preprocessing import OneHotEncoder\n",
        "from sklearn.compose import ColumnTransformer\n",
        "from sklearn.metrics import classification_report\n",
        "from sklearn.linear_model import LogisticRegression\n",
        "from sklearn import svm"
      ]
    },
    {
      "cell_type": "markdown",
      "metadata": {
        "id": "TszITtPTY3On"
      },
      "source": [
        "# Đọc dữ liệu"
      ]
    },
    {
      "cell_type": "code",
      "execution_count": null,
      "metadata": {
        "colab": {
          "base_uri": "https://localhost:8080/",
          "height": 305
        },
        "id": "rKinoCKjY6ud",
        "outputId": "be903951-1bfd-4f90-a514-2cb60a136b2a"
      },
      "outputs": [
        {
          "output_type": "execute_result",
          "data": {
            "text/plain": [
              "   Unnamed: 0       id   type             boatClass       make  \\\n",
              "0           1  7252689  power          power-center  Aquasport   \n",
              "1           3  7228300  power    power-sportcruiser    Formula   \n",
              "2           5  7271336  power            power-deck   Bayliner   \n",
              "3           6  7222952  power  power-expresscruiser      Regal   \n",
              "4           8  6824832  power             power-aft     Carver   \n",
              "\n",
              "                       model  year condition  length_ft  beam_ft  ...  \\\n",
              "0                     210 CC  1992      used       21.0     8.50  ...   \n",
              "1            400 Super Sport  2018      used       40.0    11.00  ...   \n",
              "2                Element 180  2020       new       18.0     7.42  ...   \n",
              "3                 32 Express  2015      used       32.0    10.33  ...   \n",
              "4  440 Aft Cabin Motor Yacht  1994      used       44.0    15.00  ...   \n",
              "\n",
              "   minEngineYear    engineCategory     price  sellerId              city  \\\n",
              "0            NaN       outboard-4s   16500.0    217053         Englewood   \n",
              "1         2018.0  inboard-outboard  539000.0     44260    Harsens Island   \n",
              "2         2019.0       outboard-4s   26995.0    220570          Marietta   \n",
              "3            NaN          multiple  169995.0     34834  North Charleston   \n",
              "4         1994.0           inboard  109900.0     17942      Middle River   \n",
              "\n",
              "   state    zip created_date  created_month  created_year  \n",
              "0     FL  34224   2019-10-16             10          2019  \n",
              "1     MI  48028   2019-09-24              9          2019  \n",
              "2     OH  45750   2019-11-02             11          2019  \n",
              "3     SC  29405   2019-09-19              9          2019  \n",
              "4     MD  21220   2018-08-29              8          2018  \n",
              "\n",
              "[5 rows x 26 columns]"
            ],
            "text/html": [
              "\n",
              "  <div id=\"df-c5ddcbe9-f902-478b-a911-be9bd5424f2c\" class=\"colab-df-container\">\n",
              "    <div>\n",
              "<style scoped>\n",
              "    .dataframe tbody tr th:only-of-type {\n",
              "        vertical-align: middle;\n",
              "    }\n",
              "\n",
              "    .dataframe tbody tr th {\n",
              "        vertical-align: top;\n",
              "    }\n",
              "\n",
              "    .dataframe thead th {\n",
              "        text-align: right;\n",
              "    }\n",
              "</style>\n",
              "<table border=\"1\" class=\"dataframe\">\n",
              "  <thead>\n",
              "    <tr style=\"text-align: right;\">\n",
              "      <th></th>\n",
              "      <th>Unnamed: 0</th>\n",
              "      <th>id</th>\n",
              "      <th>type</th>\n",
              "      <th>boatClass</th>\n",
              "      <th>make</th>\n",
              "      <th>model</th>\n",
              "      <th>year</th>\n",
              "      <th>condition</th>\n",
              "      <th>length_ft</th>\n",
              "      <th>beam_ft</th>\n",
              "      <th>...</th>\n",
              "      <th>minEngineYear</th>\n",
              "      <th>engineCategory</th>\n",
              "      <th>price</th>\n",
              "      <th>sellerId</th>\n",
              "      <th>city</th>\n",
              "      <th>state</th>\n",
              "      <th>zip</th>\n",
              "      <th>created_date</th>\n",
              "      <th>created_month</th>\n",
              "      <th>created_year</th>\n",
              "    </tr>\n",
              "  </thead>\n",
              "  <tbody>\n",
              "    <tr>\n",
              "      <th>0</th>\n",
              "      <td>1</td>\n",
              "      <td>7252689</td>\n",
              "      <td>power</td>\n",
              "      <td>power-center</td>\n",
              "      <td>Aquasport</td>\n",
              "      <td>210 CC</td>\n",
              "      <td>1992</td>\n",
              "      <td>used</td>\n",
              "      <td>21.0</td>\n",
              "      <td>8.50</td>\n",
              "      <td>...</td>\n",
              "      <td>NaN</td>\n",
              "      <td>outboard-4s</td>\n",
              "      <td>16500.0</td>\n",
              "      <td>217053</td>\n",
              "      <td>Englewood</td>\n",
              "      <td>FL</td>\n",
              "      <td>34224</td>\n",
              "      <td>2019-10-16</td>\n",
              "      <td>10</td>\n",
              "      <td>2019</td>\n",
              "    </tr>\n",
              "    <tr>\n",
              "      <th>1</th>\n",
              "      <td>3</td>\n",
              "      <td>7228300</td>\n",
              "      <td>power</td>\n",
              "      <td>power-sportcruiser</td>\n",
              "      <td>Formula</td>\n",
              "      <td>400 Super Sport</td>\n",
              "      <td>2018</td>\n",
              "      <td>used</td>\n",
              "      <td>40.0</td>\n",
              "      <td>11.00</td>\n",
              "      <td>...</td>\n",
              "      <td>2018.0</td>\n",
              "      <td>inboard-outboard</td>\n",
              "      <td>539000.0</td>\n",
              "      <td>44260</td>\n",
              "      <td>Harsens Island</td>\n",
              "      <td>MI</td>\n",
              "      <td>48028</td>\n",
              "      <td>2019-09-24</td>\n",
              "      <td>9</td>\n",
              "      <td>2019</td>\n",
              "    </tr>\n",
              "    <tr>\n",
              "      <th>2</th>\n",
              "      <td>5</td>\n",
              "      <td>7271336</td>\n",
              "      <td>power</td>\n",
              "      <td>power-deck</td>\n",
              "      <td>Bayliner</td>\n",
              "      <td>Element 180</td>\n",
              "      <td>2020</td>\n",
              "      <td>new</td>\n",
              "      <td>18.0</td>\n",
              "      <td>7.42</td>\n",
              "      <td>...</td>\n",
              "      <td>2019.0</td>\n",
              "      <td>outboard-4s</td>\n",
              "      <td>26995.0</td>\n",
              "      <td>220570</td>\n",
              "      <td>Marietta</td>\n",
              "      <td>OH</td>\n",
              "      <td>45750</td>\n",
              "      <td>2019-11-02</td>\n",
              "      <td>11</td>\n",
              "      <td>2019</td>\n",
              "    </tr>\n",
              "    <tr>\n",
              "      <th>3</th>\n",
              "      <td>6</td>\n",
              "      <td>7222952</td>\n",
              "      <td>power</td>\n",
              "      <td>power-expresscruiser</td>\n",
              "      <td>Regal</td>\n",
              "      <td>32 Express</td>\n",
              "      <td>2015</td>\n",
              "      <td>used</td>\n",
              "      <td>32.0</td>\n",
              "      <td>10.33</td>\n",
              "      <td>...</td>\n",
              "      <td>NaN</td>\n",
              "      <td>multiple</td>\n",
              "      <td>169995.0</td>\n",
              "      <td>34834</td>\n",
              "      <td>North Charleston</td>\n",
              "      <td>SC</td>\n",
              "      <td>29405</td>\n",
              "      <td>2019-09-19</td>\n",
              "      <td>9</td>\n",
              "      <td>2019</td>\n",
              "    </tr>\n",
              "    <tr>\n",
              "      <th>4</th>\n",
              "      <td>8</td>\n",
              "      <td>6824832</td>\n",
              "      <td>power</td>\n",
              "      <td>power-aft</td>\n",
              "      <td>Carver</td>\n",
              "      <td>440 Aft Cabin Motor Yacht</td>\n",
              "      <td>1994</td>\n",
              "      <td>used</td>\n",
              "      <td>44.0</td>\n",
              "      <td>15.00</td>\n",
              "      <td>...</td>\n",
              "      <td>1994.0</td>\n",
              "      <td>inboard</td>\n",
              "      <td>109900.0</td>\n",
              "      <td>17942</td>\n",
              "      <td>Middle River</td>\n",
              "      <td>MD</td>\n",
              "      <td>21220</td>\n",
              "      <td>2018-08-29</td>\n",
              "      <td>8</td>\n",
              "      <td>2018</td>\n",
              "    </tr>\n",
              "  </tbody>\n",
              "</table>\n",
              "<p>5 rows × 26 columns</p>\n",
              "</div>\n",
              "    <div class=\"colab-df-buttons\">\n",
              "\n",
              "  <div class=\"colab-df-container\">\n",
              "    <button class=\"colab-df-convert\" onclick=\"convertToInteractive('df-c5ddcbe9-f902-478b-a911-be9bd5424f2c')\"\n",
              "            title=\"Convert this dataframe to an interactive table.\"\n",
              "            style=\"display:none;\">\n",
              "\n",
              "  <svg xmlns=\"http://www.w3.org/2000/svg\" height=\"24px\" viewBox=\"0 -960 960 960\">\n",
              "    <path d=\"M120-120v-720h720v720H120Zm60-500h600v-160H180v160Zm220 220h160v-160H400v160Zm0 220h160v-160H400v160ZM180-400h160v-160H180v160Zm440 0h160v-160H620v160ZM180-180h160v-160H180v160Zm440 0h160v-160H620v160Z\"/>\n",
              "  </svg>\n",
              "    </button>\n",
              "\n",
              "  <style>\n",
              "    .colab-df-container {\n",
              "      display:flex;\n",
              "      gap: 12px;\n",
              "    }\n",
              "\n",
              "    .colab-df-convert {\n",
              "      background-color: #E8F0FE;\n",
              "      border: none;\n",
              "      border-radius: 50%;\n",
              "      cursor: pointer;\n",
              "      display: none;\n",
              "      fill: #1967D2;\n",
              "      height: 32px;\n",
              "      padding: 0 0 0 0;\n",
              "      width: 32px;\n",
              "    }\n",
              "\n",
              "    .colab-df-convert:hover {\n",
              "      background-color: #E2EBFA;\n",
              "      box-shadow: 0px 1px 2px rgba(60, 64, 67, 0.3), 0px 1px 3px 1px rgba(60, 64, 67, 0.15);\n",
              "      fill: #174EA6;\n",
              "    }\n",
              "\n",
              "    .colab-df-buttons div {\n",
              "      margin-bottom: 4px;\n",
              "    }\n",
              "\n",
              "    [theme=dark] .colab-df-convert {\n",
              "      background-color: #3B4455;\n",
              "      fill: #D2E3FC;\n",
              "    }\n",
              "\n",
              "    [theme=dark] .colab-df-convert:hover {\n",
              "      background-color: #434B5C;\n",
              "      box-shadow: 0px 1px 3px 1px rgba(0, 0, 0, 0.15);\n",
              "      filter: drop-shadow(0px 1px 2px rgba(0, 0, 0, 0.3));\n",
              "      fill: #FFFFFF;\n",
              "    }\n",
              "  </style>\n",
              "\n",
              "    <script>\n",
              "      const buttonEl =\n",
              "        document.querySelector('#df-c5ddcbe9-f902-478b-a911-be9bd5424f2c button.colab-df-convert');\n",
              "      buttonEl.style.display =\n",
              "        google.colab.kernel.accessAllowed ? 'block' : 'none';\n",
              "\n",
              "      async function convertToInteractive(key) {\n",
              "        const element = document.querySelector('#df-c5ddcbe9-f902-478b-a911-be9bd5424f2c');\n",
              "        const dataTable =\n",
              "          await google.colab.kernel.invokeFunction('convertToInteractive',\n",
              "                                                    [key], {});\n",
              "        if (!dataTable) return;\n",
              "\n",
              "        const docLinkHtml = 'Like what you see? Visit the ' +\n",
              "          '<a target=\"_blank\" href=https://colab.research.google.com/notebooks/data_table.ipynb>data table notebook</a>'\n",
              "          + ' to learn more about interactive tables.';\n",
              "        element.innerHTML = '';\n",
              "        dataTable['output_type'] = 'display_data';\n",
              "        await google.colab.output.renderOutput(dataTable, element);\n",
              "        const docLink = document.createElement('div');\n",
              "        docLink.innerHTML = docLinkHtml;\n",
              "        element.appendChild(docLink);\n",
              "      }\n",
              "    </script>\n",
              "  </div>\n",
              "\n",
              "\n",
              "<div id=\"df-d9fbfc25-d8ae-4592-899b-08bdd919b817\">\n",
              "  <button class=\"colab-df-quickchart\" onclick=\"quickchart('df-d9fbfc25-d8ae-4592-899b-08bdd919b817')\"\n",
              "            title=\"Suggest charts\"\n",
              "            style=\"display:none;\">\n",
              "\n",
              "<svg xmlns=\"http://www.w3.org/2000/svg\" height=\"24px\"viewBox=\"0 0 24 24\"\n",
              "     width=\"24px\">\n",
              "    <g>\n",
              "        <path d=\"M19 3H5c-1.1 0-2 .9-2 2v14c0 1.1.9 2 2 2h14c1.1 0 2-.9 2-2V5c0-1.1-.9-2-2-2zM9 17H7v-7h2v7zm4 0h-2V7h2v10zm4 0h-2v-4h2v4z\"/>\n",
              "    </g>\n",
              "</svg>\n",
              "  </button>\n",
              "\n",
              "<style>\n",
              "  .colab-df-quickchart {\n",
              "      --bg-color: #E8F0FE;\n",
              "      --fill-color: #1967D2;\n",
              "      --hover-bg-color: #E2EBFA;\n",
              "      --hover-fill-color: #174EA6;\n",
              "      --disabled-fill-color: #AAA;\n",
              "      --disabled-bg-color: #DDD;\n",
              "  }\n",
              "\n",
              "  [theme=dark] .colab-df-quickchart {\n",
              "      --bg-color: #3B4455;\n",
              "      --fill-color: #D2E3FC;\n",
              "      --hover-bg-color: #434B5C;\n",
              "      --hover-fill-color: #FFFFFF;\n",
              "      --disabled-bg-color: #3B4455;\n",
              "      --disabled-fill-color: #666;\n",
              "  }\n",
              "\n",
              "  .colab-df-quickchart {\n",
              "    background-color: var(--bg-color);\n",
              "    border: none;\n",
              "    border-radius: 50%;\n",
              "    cursor: pointer;\n",
              "    display: none;\n",
              "    fill: var(--fill-color);\n",
              "    height: 32px;\n",
              "    padding: 0;\n",
              "    width: 32px;\n",
              "  }\n",
              "\n",
              "  .colab-df-quickchart:hover {\n",
              "    background-color: var(--hover-bg-color);\n",
              "    box-shadow: 0 1px 2px rgba(60, 64, 67, 0.3), 0 1px 3px 1px rgba(60, 64, 67, 0.15);\n",
              "    fill: var(--button-hover-fill-color);\n",
              "  }\n",
              "\n",
              "  .colab-df-quickchart-complete:disabled,\n",
              "  .colab-df-quickchart-complete:disabled:hover {\n",
              "    background-color: var(--disabled-bg-color);\n",
              "    fill: var(--disabled-fill-color);\n",
              "    box-shadow: none;\n",
              "  }\n",
              "\n",
              "  .colab-df-spinner {\n",
              "    border: 2px solid var(--fill-color);\n",
              "    border-color: transparent;\n",
              "    border-bottom-color: var(--fill-color);\n",
              "    animation:\n",
              "      spin 1s steps(1) infinite;\n",
              "  }\n",
              "\n",
              "  @keyframes spin {\n",
              "    0% {\n",
              "      border-color: transparent;\n",
              "      border-bottom-color: var(--fill-color);\n",
              "      border-left-color: var(--fill-color);\n",
              "    }\n",
              "    20% {\n",
              "      border-color: transparent;\n",
              "      border-left-color: var(--fill-color);\n",
              "      border-top-color: var(--fill-color);\n",
              "    }\n",
              "    30% {\n",
              "      border-color: transparent;\n",
              "      border-left-color: var(--fill-color);\n",
              "      border-top-color: var(--fill-color);\n",
              "      border-right-color: var(--fill-color);\n",
              "    }\n",
              "    40% {\n",
              "      border-color: transparent;\n",
              "      border-right-color: var(--fill-color);\n",
              "      border-top-color: var(--fill-color);\n",
              "    }\n",
              "    60% {\n",
              "      border-color: transparent;\n",
              "      border-right-color: var(--fill-color);\n",
              "    }\n",
              "    80% {\n",
              "      border-color: transparent;\n",
              "      border-right-color: var(--fill-color);\n",
              "      border-bottom-color: var(--fill-color);\n",
              "    }\n",
              "    90% {\n",
              "      border-color: transparent;\n",
              "      border-bottom-color: var(--fill-color);\n",
              "    }\n",
              "  }\n",
              "</style>\n",
              "\n",
              "  <script>\n",
              "    async function quickchart(key) {\n",
              "      const quickchartButtonEl =\n",
              "        document.querySelector('#' + key + ' button');\n",
              "      quickchartButtonEl.disabled = true;  // To prevent multiple clicks.\n",
              "      quickchartButtonEl.classList.add('colab-df-spinner');\n",
              "      try {\n",
              "        const charts = await google.colab.kernel.invokeFunction(\n",
              "            'suggestCharts', [key], {});\n",
              "      } catch (error) {\n",
              "        console.error('Error during call to suggestCharts:', error);\n",
              "      }\n",
              "      quickchartButtonEl.classList.remove('colab-df-spinner');\n",
              "      quickchartButtonEl.classList.add('colab-df-quickchart-complete');\n",
              "    }\n",
              "    (() => {\n",
              "      let quickchartButtonEl =\n",
              "        document.querySelector('#df-d9fbfc25-d8ae-4592-899b-08bdd919b817 button');\n",
              "      quickchartButtonEl.style.display =\n",
              "        google.colab.kernel.accessAllowed ? 'block' : 'none';\n",
              "    })();\n",
              "  </script>\n",
              "</div>\n",
              "\n",
              "    </div>\n",
              "  </div>\n"
            ],
            "application/vnd.google.colaboratory.intrinsic+json": {
              "type": "dataframe",
              "variable_name": "dataset"
            }
          },
          "metadata": {},
          "execution_count": 23
        }
      ],
      "source": [
        "dataset = pd.read_csv('Boats.csv')\n",
        "dataset.head()"
      ]
    },
    {
      "cell_type": "markdown",
      "metadata": {
        "id": "uhm2VrrYaqyK"
      },
      "source": [
        "# Thông tin dataset"
      ]
    },
    {
      "cell_type": "code",
      "execution_count": null,
      "metadata": {
        "colab": {
          "base_uri": "https://localhost:8080/"
        },
        "id": "upBkZiM3asTs",
        "outputId": "a23077e0-7ba0-4f59-e6aa-98a36db98edc"
      },
      "outputs": [
        {
          "output_type": "stream",
          "name": "stdout",
          "text": [
            "<class 'pandas.core.frame.DataFrame'>\n",
            "RangeIndex: 18903 entries, 0 to 18902\n",
            "Data columns (total 24 columns):\n",
            " #   Column          Non-Null Count  Dtype  \n",
            "---  ------          --------------  -----  \n",
            " 0   type            18903 non-null  object \n",
            " 1   boatClass       18903 non-null  object \n",
            " 2   make            18903 non-null  object \n",
            " 3   model           18868 non-null  object \n",
            " 4   year            18903 non-null  int64  \n",
            " 5   condition       18903 non-null  object \n",
            " 6   length_ft       18903 non-null  float64\n",
            " 7   beam_ft         12399 non-null  float64\n",
            " 8   dryWeight_lb    7094 non-null   float64\n",
            " 9   hullMaterial    18903 non-null  object \n",
            " 10  fuelType        15951 non-null  object \n",
            " 11  numEngines      18903 non-null  int64  \n",
            " 12  totalHP         18055 non-null  float64\n",
            " 13  maxEngineYear   2205 non-null   float64\n",
            " 14  minEngineYear   2174 non-null   float64\n",
            " 15  engineCategory  8410 non-null   object \n",
            " 16  price           18903 non-null  float64\n",
            " 17  sellerId        18903 non-null  int64  \n",
            " 18  city            18847 non-null  object \n",
            " 19  state           18903 non-null  object \n",
            " 20  zip             10215 non-null  object \n",
            " 21  created_date    18903 non-null  object \n",
            " 22  created_month   18903 non-null  int64  \n",
            " 23  created_year    18903 non-null  int64  \n",
            "dtypes: float64(7), int64(5), object(12)\n",
            "memory usage: 3.5+ MB\n",
            "\n",
            "\n"
          ]
        },
        {
          "output_type": "execute_result",
          "data": {
            "text/plain": [
              "type                 3\n",
              "boatClass           72\n",
              "make               960\n",
              "model             7899\n",
              "year                80\n",
              "condition            2\n",
              "length_ft          599\n",
              "beam_ft            350\n",
              "dryWeight_lb      1160\n",
              "hullMaterial         9\n",
              "fuelType             4\n",
              "numEngines           5\n",
              "totalHP            286\n",
              "maxEngineYear       67\n",
              "minEngineYear       66\n",
              "engineCategory       9\n",
              "price             6074\n",
              "sellerId          1375\n",
              "city              1149\n",
              "state               49\n",
              "zip               1046\n",
              "created_date      1424\n",
              "created_month       12\n",
              "created_year        16\n",
              "dtype: int64"
            ]
          },
          "metadata": {},
          "execution_count": 24
        }
      ],
      "source": [
        "# Xóa cột id\n",
        "dataset = dataset.drop(columns=['Unnamed: 0','id'])\n",
        "\n",
        "dataset.info()\n",
        "\n",
        "# Đếm số phần tử riêng biệt\n",
        "print('\\n')\n",
        "dataset.nunique()"
      ]
    },
    {
      "cell_type": "markdown",
      "metadata": {
        "id": "sJTEwu7b6bvs"
      },
      "source": [
        "# Số lượng phân bố của từng cột"
      ]
    },
    {
      "cell_type": "code",
      "execution_count": null,
      "metadata": {
        "colab": {
          "base_uri": "https://localhost:8080/"
        },
        "id": "sLXW0Qgj-IV7",
        "outputId": "0e5e307d-ea86-4efc-9cde-574b5a240602"
      },
      "outputs": [
        {
          "output_type": "execute_result",
          "data": {
            "text/plain": [
              "['year',\n",
              " 'length_ft',\n",
              " 'beam_ft',\n",
              " 'dryWeight_lb',\n",
              " 'numEngines',\n",
              " 'totalHP',\n",
              " 'maxEngineYear',\n",
              " 'minEngineYear',\n",
              " 'price',\n",
              " 'sellerId',\n",
              " 'created_month',\n",
              " 'created_year']"
            ]
          },
          "metadata": {},
          "execution_count": 25
        }
      ],
      "source": [
        "numerical_featues=(dataset.select_dtypes([int,float]).columns).tolist()\n",
        "numerical_featues"
      ]
    },
    {
      "cell_type": "code",
      "execution_count": null,
      "metadata": {
        "colab": {
          "base_uri": "https://localhost:8080/"
        },
        "id": "8kOGzyemBvnL",
        "outputId": "1cf4d244-86b0-4802-a7a7-45d8e5c79684"
      },
      "outputs": [
        {
          "output_type": "execute_result",
          "data": {
            "text/plain": [
              "type                 3\n",
              "boatClass           72\n",
              "make               960\n",
              "model             7899\n",
              "condition            2\n",
              "hullMaterial         9\n",
              "fuelType             4\n",
              "engineCategory       9\n",
              "city              1149\n",
              "state               49\n",
              "zip               1046\n",
              "created_date      1424\n",
              "dtype: int64"
            ]
          },
          "metadata": {},
          "execution_count": 26
        }
      ],
      "source": [
        "dataset.select_dtypes([object]).nunique()"
      ]
    },
    {
      "cell_type": "code",
      "execution_count": null,
      "metadata": {
        "id": "kuyjmJKDB7nN"
      },
      "outputs": [],
      "source": [
        "non_numerical_featues=[\n",
        " 'type',\n",
        " 'boatClass',\n",
        " 'make',\n",
        " 'model',\n",
        " 'condition',\n",
        " 'hullMaterial',\n",
        " 'fuelType',\n",
        " 'engineCategory',\n",
        " 'state',\n",
        "]"
      ]
    },
    {
      "cell_type": "code",
      "execution_count": null,
      "metadata": {
        "id": "98HkuwYOCoed"
      },
      "outputs": [],
      "source": [
        "dataset=dataset[numerical_featues+non_numerical_featues]"
      ]
    },
    {
      "cell_type": "code",
      "execution_count": null,
      "metadata": {
        "colab": {
          "base_uri": "https://localhost:8080/"
        },
        "id": "XupWyVuiCsi8",
        "outputId": "6a4135cd-052c-4e75-b8d6-1f19f5715ec8"
      },
      "outputs": [
        {
          "output_type": "stream",
          "name": "stdout",
          "text": [
            "{'mean': 647146.880930011, 'median': 34195.0, 'std': 73095667.96677485, 'min': 500.0, 'max': 9999999999.0}\n"
          ]
        }
      ],
      "source": [
        "print({'mean':dataset['price'].mean(),\n",
        "       'median':dataset['price'].median(),\n",
        "       'std':dataset['price'].std(),\n",
        "       'min':dataset['price'].min(),\n",
        "       'max':dataset['price'].max()\n",
        "       })"
      ]
    },
    {
      "cell_type": "code",
      "execution_count": null,
      "metadata": {
        "id": "kyPgm7ltMv8L"
      },
      "outputs": [],
      "source": [
        "dataset=dataset[dataset['price']!=9999999999]\n",
        "dataset=dataset[dataset['price']!=999999999]"
      ]
    },
    {
      "cell_type": "markdown",
      "metadata": {
        "id": "-MD0hCloDY7j"
      },
      "source": [
        "#  Biểu đồ histogram của price"
      ]
    },
    {
      "cell_type": "code",
      "execution_count": null,
      "metadata": {
        "colab": {
          "base_uri": "https://localhost:8080/",
          "height": 448
        },
        "id": "Uon4W0IvM15U",
        "outputId": "80e6bbcc-be4c-46f5-9465-8be89163180d"
      },
      "outputs": [
        {
          "output_type": "display_data",
          "data": {
            "text/plain": [
              "<Figure size 640x480 with 1 Axes>"
            ],
            "image/png": "[encoded data removed]"
          },
          "metadata": {}
        }
      ],
      "source": [
        "dataset.plot.hist(y='price',bins=50)\n",
        "plt.yscale('log')"
      ]
    },
    {
      "cell_type": "markdown",
      "metadata": {
        "id": "3MOMqV-AH6qc"
      },
      "source": [
        "# Handling Missing Values"
      ]
    },
    {
      "cell_type": "code",
      "execution_count": null,
      "metadata": {
        "colab": {
          "base_uri": "https://localhost:8080/"
        },
        "id": "pRImS-LHH6LN",
        "outputId": "7d5ccdea-9e95-4bc3-d823-c9d51568a5b2"
      },
      "outputs": [
        {
          "output_type": "stream",
          "name": "stdout",
          "text": [
            "year                  0\n",
            "length_ft             0\n",
            "beam_ft            6504\n",
            "dryWeight_lb      11807\n",
            "numEngines            0\n",
            "totalHP             846\n",
            "maxEngineYear     16696\n",
            "minEngineYear     16727\n",
            "price                 0\n",
            "sellerId              0\n",
            "created_month         0\n",
            "created_year          0\n",
            "type                  0\n",
            "boatClass             0\n",
            "make                  0\n",
            "model                35\n",
            "condition             0\n",
            "hullMaterial          0\n",
            "fuelType           2952\n",
            "engineCategory    10491\n",
            "state                 0\n",
            "dtype: int64\n"
          ]
        }
      ],
      "source": [
        "print(dataset.isnull().sum())\n",
        "\n",
        "# Fill missing values for numerical features with the median\n",
        "for feature in numerical_featues:\n",
        "    dataset[feature].fillna(dataset[feature].median(), inplace=True)\n",
        "\n",
        "# Fill missing values for categorical features with the most frequent value\n",
        "for feature in non_numerical_featues:\n",
        "    dataset[feature].fillna(dataset[feature].mode()[0], inplace=True)"
      ]
    },
    {
      "cell_type": "markdown",
      "metadata": {
        "id": "D7_II_-XVJv-"
      },
      "source": [
        "# Encoding Categorical Variables"
      ]
    },
    {
      "cell_type": "code",
      "execution_count": null,
      "metadata": {
        "colab": {
          "base_uri": "https://localhost:8080/"
        },
        "id": "GJtAqJWTVL0p",
        "outputId": "3d3f3f6a-be04-4df1-fb7f-d9773ac54e84"
      },
      "outputs": [
        {
          "output_type": "stream",
          "name": "stdout",
          "text": [
            "Index(['year', 'length_ft', 'beam_ft', 'dryWeight_lb', 'numEngines', 'totalHP',\n",
            "       'maxEngineYear', 'minEngineYear', 'price', 'sellerId', 'created_month',\n",
            "       'created_year', 'type', 'boatClass', 'make', 'model', 'condition',\n",
            "       'hullMaterial', 'fuelType', 'engineCategory', 'state'],\n",
            "      dtype='object')\n"
          ]
        }
      ],
      "source": [
        "from sklearn import preprocessing\n",
        "\n",
        "print(dataset.columns)\n",
        "\n",
        "# Ensure correct column names\n",
        "non_numerical_features = [\n",
        "    'type', 'boatClass', 'make', 'model', 'condition',\n",
        "    'hullMaterial', 'fuelType', 'engineCategory', 'state'\n",
        "]\n",
        "\n",
        "# Encode labels in non-numerical features\n",
        "label_encoder = preprocessing.LabelEncoder()\n",
        "for column in non_numerical_features:\n",
        "    if column in dataset.columns:\n",
        "        dataset[column] = label_encoder.fit_transform(dataset[column])"
      ]
    },
    {
      "cell_type": "markdown",
      "metadata": {
        "id": "x0es-Y2GRQfd"
      },
      "source": [
        "# Standardize Numerical Features"
      ]
    },
    {
      "cell_type": "code",
      "execution_count": null,
      "metadata": {
        "id": "E6N7nV45RPbO"
      },
      "outputs": [],
      "source": [
        "from sklearn.preprocessing import StandardScaler\n",
        "\n",
        "scaler = StandardScaler()\n",
        "dataset[numerical_featues] = scaler.fit_transform(dataset[numerical_featues])\n"
      ]
    },
    {
      "cell_type": "markdown",
      "metadata": {
        "id": "JJ8hBdNBVmyB"
      },
      "source": [
        "# Splitting the Data"
      ]
    },
    {
      "cell_type": "code",
      "execution_count": null,
      "metadata": {
        "id": "ARzq9vh0Vpf1"
      },
      "outputs": [],
      "source": [
        "data_2_train = dataset.copy()\n",
        "\n",
        "y = data_2_train['price']\n",
        "data_2_train.drop([\"price\"], axis=1, inplace=True)\n",
        "X = data_2_train\n",
        "\n",
        "from sklearn.model_selection import train_test_split\n",
        "X_train, X_test, y_train, y_test = train_test_split(\n",
        "        X, y, test_size = 0.25, random_state = 0)\n",
        "# chuẩn hóa dữ liệu\n",
        "from sklearn.preprocessing import StandardScaler\n",
        "sc_x = StandardScaler()\n",
        "X_train = sc_x.fit_transform(X_train)\n",
        "X_test = sc_x.transform(X_test)"
      ]
    },
    {
      "cell_type": "markdown",
      "metadata": {
        "id": "qVZ7qqRCa6iE"
      },
      "source": [
        "# Training"
      ]
    },
    {
      "cell_type": "code",
      "execution_count": null,
      "metadata": {
        "id": "p1_CZdJZYLYN"
      },
      "outputs": [],
      "source": [
        "from sklearn.tree import DecisionTreeRegressor\n",
        "from sklearn.metrics import mean_absolute_error, mean_squared_error, r2_score\n",
        "\n",
        "# Train the Decision Tree model\n",
        "dt_model = DecisionTreeRegressor(random_state=0)\n",
        "dt_model.fit(X_train, y_train)\n",
        "y_pred_dt = dt_model.predict(X_test)\n",
        "\n",
        "# Evaluate the model\n",
        "mae_dt = mean_absolute_error(y_test, y_pred_dt)\n",
        "mse_dt = mean_squared_error(y_test, y_pred_dt)\n",
        "r2_dt = r2_score(y_test, y_pred_dt)\n",
        "\n"
      ]
    },
    {
      "cell_type": "code",
      "execution_count": null,
      "metadata": {
        "id": "x-IS-oF4bC3o"
      },
      "outputs": [],
      "source": [
        "from sklearn.ensemble import RandomForestRegressor\n",
        "\n",
        "# Train the Random Forest model\n",
        "rf_model = RandomForestRegressor(n_estimators=100, random_state=0)\n",
        "rf_model.fit(X_train, y_train)\n",
        "y_pred_rf = rf_model.predict(X_test)\n",
        "\n",
        "# Evaluate the model\n",
        "mae_rf = mean_absolute_error(y_test, y_pred_rf)\n",
        "mse_rf = mean_squared_error(y_test, y_pred_rf)\n",
        "r2_rf = r2_score(y_test, y_pred_rf)\n"
      ]
    },
    {
      "cell_type": "code",
      "execution_count": null,
      "metadata": {
        "colab": {
          "base_uri": "https://localhost:8080/"
        },
        "id": "8epz_TRnbNo7",
        "outputId": "87899796-f4b2-48df-d49b-6f10aa1cb762"
      },
      "outputs": [
        {
          "output_type": "stream",
          "name": "stdout",
          "text": [
            "Epoch 1/50\n",
            "355/355 [==============================] - 2s 2ms/step - loss: 0.4337 - mean_absolute_error: 0.1918 - val_loss: 1.5525 - val_mean_absolute_error: 0.1776\n",
            "Epoch 2/50\n",
            "355/355 [==============================] - 1s 2ms/step - loss: 0.3093 - mean_absolute_error: 0.1559 - val_loss: 1.3592 - val_mean_absolute_error: 0.1691\n",
            "Epoch 3/50\n",
            "355/355 [==============================] - 1s 2ms/step - loss: 0.2505 - mean_absolute_error: 0.1432 - val_loss: 1.2164 - val_mean_absolute_error: 0.1546\n",
            "Epoch 4/50\n",
            "355/355 [==============================] - 1s 2ms/step - loss: 0.2199 - mean_absolute_error: 0.1355 - val_loss: 1.0322 - val_mean_absolute_error: 0.1542\n",
            "Epoch 5/50\n",
            "355/355 [==============================] - 1s 3ms/step - loss: 0.1710 - mean_absolute_error: 0.1305 - val_loss: 1.0378 - val_mean_absolute_error: 0.1571\n",
            "Epoch 6/50\n",
            "355/355 [==============================] - 1s 3ms/step - loss: 0.1444 - mean_absolute_error: 0.1295 - val_loss: 1.1135 - val_mean_absolute_error: 0.1464\n",
            "Epoch 7/50\n",
            "355/355 [==============================] - 1s 3ms/step - loss: 0.1192 - mean_absolute_error: 0.1236 - val_loss: 0.9449 - val_mean_absolute_error: 0.1417\n",
            "Epoch 8/50\n",
            "355/355 [==============================] - 1s 3ms/step - loss: 0.0933 - mean_absolute_error: 0.1109 - val_loss: 0.6356 - val_mean_absolute_error: 0.1501\n",
            "Epoch 9/50\n",
            "355/355 [==============================] - 1s 3ms/step - loss: 0.0714 - mean_absolute_error: 0.1146 - val_loss: 0.8659 - val_mean_absolute_error: 0.1396\n",
            "Epoch 10/50\n",
            "355/355 [==============================] - 1s 2ms/step - loss: 0.0558 - mean_absolute_error: 0.1065 - val_loss: 0.8457 - val_mean_absolute_error: 0.1313\n",
            "Epoch 11/50\n",
            "355/355 [==============================] - 1s 2ms/step - loss: 0.0481 - mean_absolute_error: 0.1011 - val_loss: 0.8413 - val_mean_absolute_error: 0.1347\n",
            "Epoch 12/50\n",
            "355/355 [==============================] - 1s 2ms/step - loss: 0.0434 - mean_absolute_error: 0.0972 - val_loss: 0.9234 - val_mean_absolute_error: 0.1283\n",
            "Epoch 13/50\n",
            "355/355 [==============================] - 1s 2ms/step - loss: 0.0415 - mean_absolute_error: 0.0943 - val_loss: 0.7137 - val_mean_absolute_error: 0.1255\n",
            "Epoch 14/50\n",
            "355/355 [==============================] - 1s 2ms/step - loss: 0.0465 - mean_absolute_error: 0.0985 - val_loss: 1.0800 - val_mean_absolute_error: 0.1331\n",
            "Epoch 15/50\n",
            "355/355 [==============================] - 1s 2ms/step - loss: 0.0511 - mean_absolute_error: 0.0988 - val_loss: 0.7145 - val_mean_absolute_error: 0.1341\n",
            "Epoch 16/50\n",
            "355/355 [==============================] - 1s 4ms/step - loss: 0.0418 - mean_absolute_error: 0.0946 - val_loss: 0.8266 - val_mean_absolute_error: 0.1276\n",
            "Epoch 17/50\n",
            "355/355 [==============================] - 1s 4ms/step - loss: 0.0379 - mean_absolute_error: 0.0896 - val_loss: 0.6631 - val_mean_absolute_error: 0.1260\n",
            "Epoch 18/50\n",
            "355/355 [==============================] - 1s 4ms/step - loss: 0.0377 - mean_absolute_error: 0.0924 - val_loss: 0.7681 - val_mean_absolute_error: 0.1277\n",
            "Epoch 19/50\n",
            "355/355 [==============================] - 1s 2ms/step - loss: 0.0447 - mean_absolute_error: 0.0897 - val_loss: 0.5183 - val_mean_absolute_error: 0.1279\n",
            "Epoch 20/50\n",
            "355/355 [==============================] - 1s 3ms/step - loss: 0.0539 - mean_absolute_error: 0.0924 - val_loss: 0.8069 - val_mean_absolute_error: 0.1293\n",
            "Epoch 21/50\n",
            "355/355 [==============================] - 1s 4ms/step - loss: 0.0550 - mean_absolute_error: 0.0961 - val_loss: 0.9668 - val_mean_absolute_error: 0.1367\n",
            "Epoch 22/50\n",
            "355/355 [==============================] - 1s 3ms/step - loss: 0.0511 - mean_absolute_error: 0.0962 - val_loss: 0.5960 - val_mean_absolute_error: 0.1206\n",
            "Epoch 23/50\n",
            "355/355 [==============================] - 1s 4ms/step - loss: 0.0522 - mean_absolute_error: 0.0919 - val_loss: 0.9795 - val_mean_absolute_error: 0.1319\n",
            "Epoch 24/50\n",
            "355/355 [==============================] - 1s 2ms/step - loss: 0.0414 - mean_absolute_error: 0.0849 - val_loss: 0.6213 - val_mean_absolute_error: 0.1238\n",
            "Epoch 25/50\n",
            "355/355 [==============================] - 1s 2ms/step - loss: 0.0336 - mean_absolute_error: 0.0853 - val_loss: 0.6534 - val_mean_absolute_error: 0.1185\n",
            "Epoch 26/50\n",
            "355/355 [==============================] - 1s 2ms/step - loss: 0.0279 - mean_absolute_error: 0.0803 - val_loss: 0.5938 - val_mean_absolute_error: 0.1178\n",
            "Epoch 27/50\n",
            "355/355 [==============================] - 1s 2ms/step - loss: 0.0299 - mean_absolute_error: 0.0823 - val_loss: 0.6662 - val_mean_absolute_error: 0.1496\n",
            "Epoch 28/50\n",
            "355/355 [==============================] - 1s 2ms/step - loss: 0.0329 - mean_absolute_error: 0.0851 - val_loss: 0.7352 - val_mean_absolute_error: 0.1286\n",
            "Epoch 29/50\n",
            "355/355 [==============================] - 1s 2ms/step - loss: 0.0537 - mean_absolute_error: 0.0928 - val_loss: 0.9206 - val_mean_absolute_error: 0.1225\n",
            "Epoch 30/50\n",
            "355/355 [==============================] - 1s 2ms/step - loss: 0.0340 - mean_absolute_error: 0.0845 - val_loss: 0.8123 - val_mean_absolute_error: 0.1239\n",
            "Epoch 31/50\n",
            "355/355 [==============================] - 1s 2ms/step - loss: 0.0312 - mean_absolute_error: 0.0808 - val_loss: 0.9018 - val_mean_absolute_error: 0.1241\n",
            "Epoch 32/50\n",
            "355/355 [==============================] - 1s 2ms/step - loss: 0.0488 - mean_absolute_error: 0.0874 - val_loss: 0.5820 - val_mean_absolute_error: 0.1289\n",
            "Epoch 33/50\n",
            "355/355 [==============================] - 1s 2ms/step - loss: 0.0357 - mean_absolute_error: 0.0834 - val_loss: 0.8606 - val_mean_absolute_error: 0.1220\n",
            "Epoch 34/50\n",
            "355/355 [==============================] - 1s 2ms/step - loss: 0.0383 - mean_absolute_error: 0.0820 - val_loss: 0.7416 - val_mean_absolute_error: 0.1179\n",
            "Epoch 35/50\n",
            "355/355 [==============================] - 1s 2ms/step - loss: 0.0310 - mean_absolute_error: 0.0792 - val_loss: 0.6858 - val_mean_absolute_error: 0.1169\n",
            "Epoch 36/50\n",
            "355/355 [==============================] - 1s 2ms/step - loss: 0.0279 - mean_absolute_error: 0.0782 - val_loss: 0.5043 - val_mean_absolute_error: 0.1105\n",
            "Epoch 37/50\n",
            "355/355 [==============================] - 1s 3ms/step - loss: 0.0441 - mean_absolute_error: 0.0830 - val_loss: 0.8163 - val_mean_absolute_error: 0.1314\n",
            "Epoch 38/50\n",
            "355/355 [==============================] - 1s 3ms/step - loss: 0.0406 - mean_absolute_error: 0.0813 - val_loss: 0.5492 - val_mean_absolute_error: 0.1431\n",
            "Epoch 39/50\n",
            "355/355 [==============================] - 1s 4ms/step - loss: 0.0363 - mean_absolute_error: 0.0812 - val_loss: 0.6283 - val_mean_absolute_error: 0.1132\n",
            "Epoch 40/50\n",
            "355/355 [==============================] - 1s 3ms/step - loss: 0.0292 - mean_absolute_error: 0.0767 - val_loss: 0.6840 - val_mean_absolute_error: 0.1215\n",
            "Epoch 41/50\n",
            "355/355 [==============================] - 1s 2ms/step - loss: 0.0255 - mean_absolute_error: 0.0748 - val_loss: 0.5894 - val_mean_absolute_error: 0.1144\n",
            "Epoch 42/50\n",
            "355/355 [==============================] - 1s 2ms/step - loss: 0.0207 - mean_absolute_error: 0.0727 - val_loss: 0.6861 - val_mean_absolute_error: 0.1161\n",
            "Epoch 43/50\n",
            "355/355 [==============================] - 1s 2ms/step - loss: 0.0216 - mean_absolute_error: 0.0734 - val_loss: 0.6497 - val_mean_absolute_error: 0.1308\n",
            "Epoch 44/50\n",
            "355/355 [==============================] - 1s 2ms/step - loss: 0.0311 - mean_absolute_error: 0.0788 - val_loss: 0.7084 - val_mean_absolute_error: 0.1139\n",
            "Epoch 45/50\n",
            "355/355 [==============================] - 2s 4ms/step - loss: 0.0256 - mean_absolute_error: 0.0748 - val_loss: 0.5837 - val_mean_absolute_error: 0.1135\n",
            "Epoch 46/50\n",
            "355/355 [==============================] - 1s 3ms/step - loss: 0.0317 - mean_absolute_error: 0.0805 - val_loss: 0.6540 - val_mean_absolute_error: 0.1344\n",
            "Epoch 47/50\n",
            "355/355 [==============================] - 1s 2ms/step - loss: 0.0278 - mean_absolute_error: 0.0791 - val_loss: 0.8261 - val_mean_absolute_error: 0.1177\n",
            "Epoch 48/50\n",
            "355/355 [==============================] - 1s 2ms/step - loss: 0.0251 - mean_absolute_error: 0.0722 - val_loss: 0.7542 - val_mean_absolute_error: 0.1157\n",
            "Epoch 49/50\n",
            "355/355 [==============================] - 1s 2ms/step - loss: 0.0334 - mean_absolute_error: 0.0786 - val_loss: 0.7084 - val_mean_absolute_error: 0.1480\n",
            "Epoch 50/50\n",
            "355/355 [==============================] - 1s 2ms/step - loss: 0.0305 - mean_absolute_error: 0.0766 - val_loss: 0.5503 - val_mean_absolute_error: 0.1162\n",
            "148/148 [==============================] - 0s 2ms/step\n"
          ]
        }
      ],
      "source": [
        "# !pip install scikeras\n",
        "import numpy as np\n",
        "import tensorflow as tf\n",
        "from tensorflow import keras\n",
        "from tensorflow.keras.models import Sequential\n",
        "from tensorflow.keras.layers import Dense\n",
        "\n",
        "# Build the Neural Network model\n",
        "def build_nn_model(input_dim):\n",
        "    model = Sequential()\n",
        "    model.add(Dense(64, activation='relu', input_dim=input_dim))\n",
        "    model.add(Dense(32, activation='relu'))\n",
        "    model.add(Dense(16, activation='relu'))\n",
        "    model.add(Dense(1))  # Output layer for regression task\n",
        "    model.compile(optimizer='adam', loss='mean_squared_error', metrics=['mean_absolute_error'])\n",
        "    return model\n",
        "\n",
        "# Prepare data for neural network\n",
        "X_train_nn = X_train\n",
        "X_test_nn = X_test\n",
        "\n",
        "# Build and train the model\n",
        "nn_model = build_nn_model(X_train_nn.shape[1])\n",
        "nn_model.fit(X_train_nn, y_train, epochs=50, batch_size=32, validation_split=0.2, verbose=1)\n",
        "\n",
        "# Predict and evaluate the model\n",
        "y_pred_nn = nn_model.predict(X_test_nn).flatten()\n",
        "mae_nn = mean_absolute_error(y_test, y_pred_nn)\n",
        "mse_nn = mean_squared_error(y_test, y_pred_nn)\n",
        "r2_nn = r2_score(y_test, y_pred_nn)\n",
        "\n"
      ]
    },
    {
      "cell_type": "code",
      "execution_count": null,
      "metadata": {
        "colab": {
          "base_uri": "https://localhost:8080/"
        },
        "id": "M1G_JcbBePGj",
        "outputId": "e7ff529e-169d-409e-8e42-b67ed5dba5dc"
      },
      "outputs": [
        {
          "output_type": "stream",
          "name": "stdout",
          "text": [
            "+----------------+---------------------+---------------------+--------------------+\n",
            "|     Model      |         MAE         |         MSE         |         R²         |\n",
            "+----------------+---------------------+---------------------+--------------------+\n",
            "| Decision Tree  | 0.09960342549543073 |  0.3534449634133214 | 0.5004537300014172 |\n",
            "| Random Forest  | 0.06819699357985562 | 0.10045028141839621 | 0.8580272217822287 |\n",
            "| Neural Network | 0.10433448342020525 | 0.16881479835475727 | 0.7614032973499618 |\n",
            "+----------------+---------------------+---------------------+--------------------+\n"
          ]
        }
      ],
      "source": [
        "from prettytable import PrettyTable\n",
        "\n",
        "table = PrettyTable()\n",
        "table.field_names = [\"Model\", \"MAE\", \"MSE\", \"R²\"]\n",
        "\n",
        "# Add rows for selected features\n",
        "table.add_row([\"Decision Tree\", mae_dt, mse_dt, r2_dt])\n",
        "table.add_row([\"Random Forest\", mae_rf, mse_rf, r2_rf])\n",
        "table.add_row([\"Neural Network\", mae_nn, mse_nn, r2_nn])\n",
        "\n",
        "print(table)\n"
      ]
    },
    {
      "cell_type": "markdown",
      "metadata": {
        "id": "K7HdWc36nvLV"
      },
      "source": [
        "# Feature Selection"
      ]
    },
    {
      "cell_type": "code",
      "execution_count": null,
      "metadata": {
        "colab": {
          "base_uri": "https://localhost:8080/",
          "height": 1000
        },
        "id": "okIkGr-Sn0Kl",
        "outputId": "e75ce54a-03ac-409e-d835-dbf2a26ce292"
      },
      "outputs": [
        {
          "output_type": "display_data",
          "data": {
            "text/plain": [
              "<Figure size 2000x1500 with 1 Axes>"
            ],
            "image/png": "[encoded data removed]"
          },
          "metadata": {}
        }
      ],
      "source": [
        "import pandas as pd\n",
        "from sklearn.model_selection import train_test_split\n",
        "from sklearn.preprocessing import StandardScaler\n",
        "from sklearn.ensemble import ExtraTreesRegressor\n",
        "import seaborn as sns\n",
        "import matplotlib.pyplot as plt\n",
        "\n",
        "\n",
        "# Huấn luyện mô hình Extra Trees Regressor\n",
        "clf = ExtraTreesRegressor(n_estimators=100)\n",
        "clf.fit(X_train, y_train)\n",
        "\n",
        "# Lấy tầm quan trọng của các đặc trưng\n",
        "feature_imp = pd.Series(clf.feature_importances_, index=X.columns).sort_values(ascending=False)\n",
        "\n",
        "# Vẽ biểu đồ tầm quan trọng của các đặc trưng\n",
        "plt.figure(figsize=(20, 15))\n",
        "sns.barplot(x=feature_imp, y=feature_imp.index)\n",
        "plt.xlabel('Feature Importance Score')\n",
        "plt.ylabel('Features')\n",
        "plt.title(\"Visualizing Important Features Using ExtraTreesRegressor\")\n",
        "plt.tight_layout()\n",
        "plt.show()\n"
      ]
    },
    {
      "cell_type": "code",
      "execution_count": null,
      "metadata": {
        "id": "_-6CEmiDFPq3"
      },
      "outputs": [],
      "source": [
        "dataset.drop([\"type\"], axis=1, inplace=True)\n",
        "dataset.drop([\"maxEngineYear\"], axis=1, inplace=True)\n",
        "dataset.drop([\"minEngineYear\"], axis=1, inplace=True)\n",
        "dataset.drop([\"hullMaterial\"], axis=1, inplace=True)\n",
        "dataset.drop([\"engineCategory\"], axis=1, inplace=True)\n",
        "dataset.drop([\"boatClass\"], axis=1, inplace=True)\n",
        "dataset.drop([\"sellerId\"], axis=1, inplace=True)\n",
        "dataset.drop([\"created_month\"], axis=1, inplace=True)"
      ]
    },
    {
      "cell_type": "code",
      "execution_count": null,
      "metadata": {
        "colab": {
          "base_uri": "https://localhost:8080/"
        },
        "id": "ZT4mTZrjFyEd",
        "outputId": "4d6c31e8-126e-4cc8-efa5-6fb033713ec7"
      },
      "outputs": [
        {
          "output_type": "stream",
          "name": "stdout",
          "text": [
            "<class 'pandas.core.frame.DataFrame'>\n",
            "Index: 18901 entries, 0 to 18902\n",
            "Data columns (total 13 columns):\n",
            " #   Column        Non-Null Count  Dtype  \n",
            "---  ------        --------------  -----  \n",
            " 0   year          18901 non-null  float64\n",
            " 1   length_ft     18901 non-null  float64\n",
            " 2   beam_ft       18901 non-null  float64\n",
            " 3   dryWeight_lb  18901 non-null  float64\n",
            " 4   numEngines    18901 non-null  float64\n",
            " 5   totalHP       18901 non-null  float64\n",
            " 6   price         18901 non-null  float64\n",
            " 7   created_year  18901 non-null  float64\n",
            " 8   make          18901 non-null  int64  \n",
            " 9   model         18901 non-null  int64  \n",
            " 10  condition     18901 non-null  int64  \n",
            " 11  fuelType      18901 non-null  int64  \n",
            " 12  state         18901 non-null  int64  \n",
            "dtypes: float64(8), int64(5)\n",
            "memory usage: 2.0 MB\n"
          ]
        }
      ],
      "source": [
        "dataset.info()"
      ]
    },
    {
      "cell_type": "code",
      "execution_count": null,
      "metadata": {
        "id": "pJi2Nc__GIVp"
      },
      "outputs": [],
      "source": [
        "data_2_train = dataset.copy()\n",
        "\n",
        "y = data_2_train['price']\n",
        "data_2_train.drop([\"price\"], axis=1, inplace=True)\n",
        "X = data_2_train\n",
        "\n",
        "from sklearn.model_selection import train_test_split\n",
        "X_train, X_test, y_train, y_test = train_test_split(\n",
        "        X, y, test_size = 0.25, random_state = 0)\n",
        "\n",
        "from sklearn.preprocessing import StandardScaler\n",
        "sc_x = StandardScaler()\n",
        "X_train = sc_x.fit_transform(X_train)\n",
        "X_test = sc_x.transform(X_test)"
      ]
    },
    {
      "cell_type": "code",
      "execution_count": null,
      "metadata": {
        "id": "znLT6t7lGQYg"
      },
      "outputs": [],
      "source": [
        "from sklearn.tree import DecisionTreeRegressor\n",
        "from sklearn.metrics import mean_absolute_error, mean_squared_error, r2_score\n",
        "\n",
        "# Train the Decision Tree model\n",
        "dt_model = DecisionTreeRegressor(random_state=0)\n",
        "dt_model.fit(X_train, y_train)\n",
        "y_pred_dt = dt_model.predict(X_test)\n",
        "\n",
        "# Evaluate the model\n",
        "mae_dt = mean_absolute_error(y_test, y_pred_dt)\n",
        "mse_dt = mean_squared_error(y_test, y_pred_dt)\n",
        "r2_dt = r2_score(y_test, y_pred_dt)"
      ]
    },
    {
      "cell_type": "code",
      "source": [
        "from sklearn.ensemble import RandomForestRegressor\n",
        "\n",
        "# Train the Random Forest model\n",
        "rf_model = RandomForestRegressor(n_estimators=100, random_state=0)\n",
        "rf_model.fit(X_train, y_train)\n",
        "y_pred_rf = rf_model.predict(X_test)\n",
        "\n",
        "# Evaluate the model\n",
        "mae_rf = mean_absolute_error(y_test, y_pred_rf)\n",
        "mse_rf = mean_squared_error(y_test, y_pred_rf)\n",
        "r2_rf = r2_score(y_test, y_pred_rf)\n"
      ],
      "metadata": {
        "id": "SjA15POEh4Tk"
      },
      "execution_count": null,
      "outputs": []
    },
    {
      "cell_type": "code",
      "execution_count": null,
      "metadata": {
        "id": "83fiSdikGdfG",
        "colab": {
          "base_uri": "https://localhost:8080/"
        },
        "outputId": "cedd2cb4-ed67-40ea-b9b1-d753f632fd47"
      },
      "outputs": [
        {
          "output_type": "stream",
          "name": "stdout",
          "text": [
            "Epoch 1/50\n",
            "355/355 [==============================] - 3s 5ms/step - loss: 0.4149 - mean_absolute_error: 0.1701 - val_loss: 1.4956 - val_mean_absolute_error: 0.1847\n",
            "Epoch 2/50\n",
            "355/355 [==============================] - 1s 2ms/step - loss: 0.3042 - mean_absolute_error: 0.1458 - val_loss: 1.5651 - val_mean_absolute_error: 0.1696\n",
            "Epoch 3/50\n",
            "355/355 [==============================] - 1s 2ms/step - loss: 0.2233 - mean_absolute_error: 0.1283 - val_loss: 1.2761 - val_mean_absolute_error: 0.1831\n",
            "Epoch 4/50\n",
            "355/355 [==============================] - 1s 2ms/step - loss: 0.1961 - mean_absolute_error: 0.1347 - val_loss: 1.2494 - val_mean_absolute_error: 0.1483\n",
            "Epoch 5/50\n",
            "355/355 [==============================] - 1s 2ms/step - loss: 0.1618 - mean_absolute_error: 0.1216 - val_loss: 1.2095 - val_mean_absolute_error: 0.1509\n",
            "Epoch 6/50\n",
            "355/355 [==============================] - 1s 2ms/step - loss: 0.1450 - mean_absolute_error: 0.1232 - val_loss: 1.1492 - val_mean_absolute_error: 0.1394\n",
            "Epoch 7/50\n",
            "355/355 [==============================] - 1s 3ms/step - loss: 0.1215 - mean_absolute_error: 0.1122 - val_loss: 0.9107 - val_mean_absolute_error: 0.1450\n",
            "Epoch 8/50\n",
            "355/355 [==============================] - 1s 4ms/step - loss: 0.0929 - mean_absolute_error: 0.1094 - val_loss: 1.1774 - val_mean_absolute_error: 0.1371\n",
            "Epoch 9/50\n",
            "355/355 [==============================] - 1s 4ms/step - loss: 0.1020 - mean_absolute_error: 0.1203 - val_loss: 1.0552 - val_mean_absolute_error: 0.1336\n",
            "Epoch 10/50\n",
            "355/355 [==============================] - 1s 3ms/step - loss: 0.0700 - mean_absolute_error: 0.1070 - val_loss: 0.8774 - val_mean_absolute_error: 0.1487\n",
            "Epoch 11/50\n",
            "355/355 [==============================] - 1s 2ms/step - loss: 0.0763 - mean_absolute_error: 0.1055 - val_loss: 1.2246 - val_mean_absolute_error: 0.1482\n",
            "Epoch 12/50\n",
            "355/355 [==============================] - 1s 2ms/step - loss: 0.0635 - mean_absolute_error: 0.1020 - val_loss: 1.0185 - val_mean_absolute_error: 0.1376\n",
            "Epoch 13/50\n",
            "355/355 [==============================] - 1s 2ms/step - loss: 0.0646 - mean_absolute_error: 0.1015 - val_loss: 1.2392 - val_mean_absolute_error: 0.1342\n",
            "Epoch 14/50\n",
            "355/355 [==============================] - 1s 2ms/step - loss: 0.0510 - mean_absolute_error: 0.0978 - val_loss: 1.0859 - val_mean_absolute_error: 0.1423\n",
            "Epoch 15/50\n",
            "355/355 [==============================] - 1s 2ms/step - loss: 0.0489 - mean_absolute_error: 0.0965 - val_loss: 1.0761 - val_mean_absolute_error: 0.1307\n",
            "Epoch 16/50\n",
            "355/355 [==============================] - 1s 2ms/step - loss: 0.0547 - mean_absolute_error: 0.0956 - val_loss: 1.0645 - val_mean_absolute_error: 0.1326\n",
            "Epoch 17/50\n",
            "355/355 [==============================] - 1s 2ms/step - loss: 0.0521 - mean_absolute_error: 0.0971 - val_loss: 0.9141 - val_mean_absolute_error: 0.1327\n",
            "Epoch 18/50\n",
            "355/355 [==============================] - 1s 2ms/step - loss: 0.0622 - mean_absolute_error: 0.0998 - val_loss: 1.0843 - val_mean_absolute_error: 0.1352\n",
            "Epoch 19/50\n",
            "355/355 [==============================] - 1s 2ms/step - loss: 0.0798 - mean_absolute_error: 0.1077 - val_loss: 0.9041 - val_mean_absolute_error: 0.1298\n",
            "Epoch 20/50\n",
            "355/355 [==============================] - 1s 3ms/step - loss: 0.0625 - mean_absolute_error: 0.1041 - val_loss: 0.8433 - val_mean_absolute_error: 0.1278\n",
            "Epoch 21/50\n",
            "355/355 [==============================] - 2s 5ms/step - loss: 0.0838 - mean_absolute_error: 0.0972 - val_loss: 0.9648 - val_mean_absolute_error: 0.1274\n",
            "Epoch 22/50\n",
            "355/355 [==============================] - 3s 7ms/step - loss: 0.0685 - mean_absolute_error: 0.0986 - val_loss: 0.9223 - val_mean_absolute_error: 0.1271\n",
            "Epoch 23/50\n",
            "355/355 [==============================] - 3s 8ms/step - loss: 0.0487 - mean_absolute_error: 0.0914 - val_loss: 0.8339 - val_mean_absolute_error: 0.1285\n",
            "Epoch 24/50\n",
            "355/355 [==============================] - 2s 5ms/step - loss: 0.0402 - mean_absolute_error: 0.0871 - val_loss: 0.8183 - val_mean_absolute_error: 0.1242\n",
            "Epoch 25/50\n",
            "355/355 [==============================] - 2s 5ms/step - loss: 0.0379 - mean_absolute_error: 0.0861 - val_loss: 0.9295 - val_mean_absolute_error: 0.1244\n",
            "Epoch 26/50\n",
            "355/355 [==============================] - 1s 2ms/step - loss: 0.0439 - mean_absolute_error: 0.0875 - val_loss: 0.9819 - val_mean_absolute_error: 0.1203\n",
            "Epoch 27/50\n",
            "355/355 [==============================] - 1s 2ms/step - loss: 0.0622 - mean_absolute_error: 0.0929 - val_loss: 0.6827 - val_mean_absolute_error: 0.1210\n",
            "Epoch 28/50\n",
            "355/355 [==============================] - 1s 2ms/step - loss: 0.0533 - mean_absolute_error: 0.0909 - val_loss: 0.9469 - val_mean_absolute_error: 0.1234\n",
            "Epoch 29/50\n",
            "355/355 [==============================] - 1s 2ms/step - loss: 0.0431 - mean_absolute_error: 0.0878 - val_loss: 0.8399 - val_mean_absolute_error: 0.1287\n",
            "Epoch 30/50\n",
            "355/355 [==============================] - 1s 2ms/step - loss: 0.0393 - mean_absolute_error: 0.0858 - val_loss: 1.0295 - val_mean_absolute_error: 0.1247\n",
            "Epoch 31/50\n",
            "355/355 [==============================] - 1s 2ms/step - loss: 0.0421 - mean_absolute_error: 0.0856 - val_loss: 0.9010 - val_mean_absolute_error: 0.1181\n",
            "Epoch 32/50\n",
            "355/355 [==============================] - 1s 2ms/step - loss: 0.0391 - mean_absolute_error: 0.0856 - val_loss: 1.0354 - val_mean_absolute_error: 0.1489\n",
            "Epoch 33/50\n",
            "355/355 [==============================] - 1s 2ms/step - loss: 0.0531 - mean_absolute_error: 0.0918 - val_loss: 1.0941 - val_mean_absolute_error: 0.1276\n",
            "Epoch 34/50\n",
            "355/355 [==============================] - 1s 2ms/step - loss: 0.0575 - mean_absolute_error: 0.0919 - val_loss: 0.8142 - val_mean_absolute_error: 0.1187\n",
            "Epoch 35/50\n",
            "355/355 [==============================] - 1s 3ms/step - loss: 0.0450 - mean_absolute_error: 0.0858 - val_loss: 0.8234 - val_mean_absolute_error: 0.1371\n",
            "Epoch 36/50\n",
            "355/355 [==============================] - 1s 3ms/step - loss: 0.0360 - mean_absolute_error: 0.0866 - val_loss: 0.7860 - val_mean_absolute_error: 0.1206\n",
            "Epoch 37/50\n",
            "355/355 [==============================] - 1s 3ms/step - loss: 0.0323 - mean_absolute_error: 0.0820 - val_loss: 0.9117 - val_mean_absolute_error: 0.1167\n",
            "Epoch 38/50\n",
            "355/355 [==============================] - 1s 4ms/step - loss: 0.0358 - mean_absolute_error: 0.0833 - val_loss: 0.9046 - val_mean_absolute_error: 0.1313\n",
            "Epoch 39/50\n",
            "355/355 [==============================] - 1s 2ms/step - loss: 0.0402 - mean_absolute_error: 0.0836 - val_loss: 0.8713 - val_mean_absolute_error: 0.1228\n",
            "Epoch 40/50\n",
            "355/355 [==============================] - 1s 2ms/step - loss: 0.0358 - mean_absolute_error: 0.0840 - val_loss: 0.8617 - val_mean_absolute_error: 0.1222\n",
            "Epoch 41/50\n",
            "355/355 [==============================] - 1s 2ms/step - loss: 0.0391 - mean_absolute_error: 0.0836 - val_loss: 0.7177 - val_mean_absolute_error: 0.1198\n",
            "Epoch 42/50\n",
            "355/355 [==============================] - 1s 2ms/step - loss: 0.0397 - mean_absolute_error: 0.0851 - val_loss: 0.9122 - val_mean_absolute_error: 0.1237\n",
            "Epoch 43/50\n",
            "355/355 [==============================] - 1s 2ms/step - loss: 0.0491 - mean_absolute_error: 0.0865 - val_loss: 0.8242 - val_mean_absolute_error: 0.1301\n",
            "Epoch 44/50\n",
            "355/355 [==============================] - 1s 2ms/step - loss: 0.0451 - mean_absolute_error: 0.0861 - val_loss: 0.7583 - val_mean_absolute_error: 0.1234\n",
            "Epoch 45/50\n",
            "355/355 [==============================] - 1s 2ms/step - loss: 0.0441 - mean_absolute_error: 0.0854 - val_loss: 1.0478 - val_mean_absolute_error: 0.1246\n",
            "Epoch 46/50\n",
            "355/355 [==============================] - 1s 2ms/step - loss: 0.0646 - mean_absolute_error: 0.0902 - val_loss: 0.9551 - val_mean_absolute_error: 0.1280\n",
            "Epoch 47/50\n",
            "355/355 [==============================] - 1s 2ms/step - loss: 0.0370 - mean_absolute_error: 0.0800 - val_loss: 0.8325 - val_mean_absolute_error: 0.1148\n",
            "Epoch 48/50\n",
            "355/355 [==============================] - 1s 2ms/step - loss: 0.0497 - mean_absolute_error: 0.0883 - val_loss: 0.9134 - val_mean_absolute_error: 0.1260\n",
            "Epoch 49/50\n",
            "355/355 [==============================] - 1s 2ms/step - loss: 0.0628 - mean_absolute_error: 0.0868 - val_loss: 0.7688 - val_mean_absolute_error: 0.1136\n",
            "Epoch 50/50\n",
            "355/355 [==============================] - 1s 2ms/step - loss: 0.0455 - mean_absolute_error: 0.0820 - val_loss: 1.0000 - val_mean_absolute_error: 0.1192\n",
            "148/148 [==============================] - 0s 1ms/step\n"
          ]
        }
      ],
      "source": [
        "import numpy as np\n",
        "import tensorflow as tf\n",
        "from tensorflow import keras\n",
        "from tensorflow.keras.models import Sequential\n",
        "from tensorflow.keras.layers import Dense\n",
        "\n",
        "# Build the Neural Network model (FNN)\n",
        "def build_nn_model(input_dim):\n",
        "    model = Sequential()\n",
        "    model.add(Dense(64, activation='relu', input_dim=input_dim))\n",
        "    model.add(Dense(32, activation='relu'))\n",
        "    model.add(Dense(16, activation='relu'))\n",
        "    model.add(Dense(1))\n",
        "    model.compile(optimizer='adam', loss='mean_squared_error', metrics=['mean_absolute_error'])\n",
        "    return model\n",
        "\n",
        "# Prepare data for neural network\n",
        "X_train_nn = X_train\n",
        "X_test_nn = X_test\n",
        "\n",
        "# Build and train the model\n",
        "nn_model = build_nn_model(X_train_nn.shape[1])\n",
        "nn_model.fit(X_train_nn, y_train, epochs=50, batch_size=32, validation_split=0.2, verbose=1)\n",
        "\n",
        "# Predict and evaluate the model\n",
        "y_pred_nn = nn_model.predict(X_test_nn).flatten()\n",
        "mae_nn = mean_absolute_error(y_test, y_pred_nn)\n",
        "mse_nn = mean_squared_error(y_test, y_pred_nn)\n",
        "r2_nn = r2_score(y_test, y_pred_nn)"
      ]
    },
    {
      "cell_type": "code",
      "source": [
        "from prettytable import PrettyTable\n",
        "\n",
        "table = PrettyTable()\n",
        "table.field_names = [\"Model\", \"MAE\", \"MSE\", \"R²\"]\n",
        "\n",
        "# Add rows for selected features\n",
        "table.add_row([\"Decision Tree\", mae_dt, mse_dt, r2_dt])\n",
        "table.add_row([\"Random Forest\", mae_rf, mse_rf, r2_rf])\n",
        "table.add_row([\"Neural Network\", mae_nn, mse_nn, r2_nn])\n",
        "\n",
        "print(table)\n"
      ],
      "metadata": {
        "colab": {
          "base_uri": "https://localhost:8080/"
        },
        "id": "zi2suWZ8idQT",
        "outputId": "e4b673de-b079-4d3b-ae80-62c3da8f162c"
      },
      "execution_count": null,
      "outputs": [
        {
          "output_type": "stream",
          "name": "stdout",
          "text": [
            "+----------------+---------------------+---------------------+--------------------+\n",
            "|     Model      |         MAE         |         MSE         |         R²         |\n",
            "+----------------+---------------------+---------------------+--------------------+\n",
            "| Decision Tree  | 0.09425344453185994 |  0.2217785217961093 | 0.686546294905075  |\n",
            "| Random Forest  | 0.06823109350486566 | 0.10307658343579201 | 0.8543153019291069 |\n",
            "| Neural Network | 0.10696840193288089 | 0.16755633266411213 | 0.7631819670348027 |\n",
            "+----------------+---------------------+---------------------+--------------------+\n"
          ]
        }
      ]
    }
  ],
  "metadata": {
    "colab": {
      "provenance": [],
      "authorship_tag": "ABX9TyPThr8cdAFRldSf7gRaJ+PT",
      "include_colab_link": true
    },
    "kernelspec": {
      "display_name": "Python 3",
      "name": "python3"
    },
    "language_info": {
      "name": "python"
    }
  },
  "nbformat": 4,
  "nbformat_minor": 0
}